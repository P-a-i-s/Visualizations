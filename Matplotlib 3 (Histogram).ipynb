{
 "cells": [
  {
   "cell_type": "code",
   "execution_count": 1,
   "metadata": {
    "collapsed": true
   },
   "outputs": [],
   "source": [
    "%matplotlib inline\n",
    "import matplotlib.pyplot as plt\n",
    "import numpy as np\n",
    "import pandas as pd"
   ]
  },
  {
   "cell_type": "code",
   "execution_count": 8,
   "metadata": {
    "collapsed": true
   },
   "outputs": [],
   "source": [
    "data = np.random.randn(1000)"
   ]
  },
  {
   "cell_type": "code",
   "execution_count": 9,
   "metadata": {
    "collapsed": false
   },
   "outputs": [
    {
     "data": {
      "text/plain": [
       "(array([   7.,   40.,  104.,  175.,  236.,  199.,  144.,   70.,   22.,    3.]),\n",
       " array([-2.86172356, -2.26350711, -1.66529067, -1.06707422, -0.46885777,\n",
       "         0.12935868,  0.72757513,  1.32579157,  1.92400802,  2.52222447,\n",
       "         3.12044092]),\n",
       " <a list of 10 Patch objects>)"
      ]
     },
     "execution_count": 9,
     "metadata": {},
     "output_type": "execute_result"
    },
    {
     "data": {
      "image/png": "[encoded data removed]",
      "text/plain": [
       "<matplotlib.figure.Figure at 0x11ad2d4d0>"
      ]
     },
     "metadata": {},
     "output_type": "display_data"
    }
   ],
   "source": [
    "plt.hist(data)"
   ]
  },
  {
   "cell_type": "code",
   "execution_count": 14,
   "metadata": {
    "collapsed": false
   },
   "outputs": [
    {
     "data": {
      "text/plain": [
       "(array([   6.,   30.,   73.,  145.,  205.,  204.,  163.,  101.,   52.,\n",
       "          18.,    3.]),\n",
       " array([-2.86172356, -2.31789043, -1.77405729, -1.23022416, -0.68639102,\n",
       "        -0.14255789,  0.40127525,  0.94510838,  1.48894151,  2.03277465,\n",
       "         2.57660778,  3.12044092]),\n",
       " <a list of 11 Patch objects>)"
      ]
     },
     "execution_count": 14,
     "metadata": {},
     "output_type": "execute_result"
    },
    {
     "data": {
      "image/png": "[encoded data removed]",
      "text/plain": [
       "<matplotlib.figure.Figure at 0x11b894dd0>"
      ]
     },
     "metadata": {},
     "output_type": "display_data"
    }
   ],
   "source": [
    "plt.hist(data, bins = 11, alpha = 0.5, color = 'red')"
   ]
  },
  {
   "cell_type": "markdown",
   "metadata": {},
   "source": [
    "## Using Dictionary to save values (NOT WORKING)"
   ]
  },
  {
   "cell_type": "code",
   "execution_count": 32,
   "metadata": {
    "collapsed": false
   },
   "outputs": [
    {
     "ename": "SyntaxError",
     "evalue": "invalid syntax (<ipython-input-32-113c27d2a13f>, line 7)",
     "output_type": "error",
     "traceback": [
      "\u001b[0;36m  File \u001b[0;32m\"<ipython-input-32-113c27d2a13f>\"\u001b[0;36m, line \u001b[0;32m7\u001b[0m\n\u001b[0;31m    plt.hist(x1, **argdict, color='red')\u001b[0m\n\u001b[0m                          ^\u001b[0m\n\u001b[0;31mSyntaxError\u001b[0m\u001b[0;31m:\u001b[0m invalid syntax\n"
     ]
    }
   ],
   "source": [
    "x1 = np.random.normal(0,0.8, 1000)\n",
    "x2 = np.random.normal(-2,1,1000)\n",
    "x3 = np.random.normal(3, 2, 1000)\n",
    "\n",
    "argdict = dict(alpha=0.3, bins=40)\n",
    "\n",
    "plt.hist(x1, **argdict, color='red')\n",
    "plt.hist(x2, **argdict, color='yellow')\n",
    "plt.hist(x3, **argdict)"
   ]
  },
  {
   "cell_type": "code",
   "execution_count": null,
   "metadata": {
    "collapsed": false
   },
   "outputs": [],
   "source": []
  },
  {
   "cell_type": "code",
   "execution_count": null,
   "metadata": {
    "collapsed": true
   },
   "outputs": [],
   "source": []
  }
 ],
 "metadata": {
  "kernelspec": {
   "display_name": "Python 2",
   "language": "python",
   "name": "python2"
  },
  "language_info": {
   "codemirror_mode": {
    "name": "ipython",
    "version": 2
   },
   "file_extension": ".py",
   "mimetype": "text/x-python",
   "name": "python",
   "nbconvert_exporter": "python",
   "pygments_lexer": "ipython2",
   "version": "2.7.13"
  }
 },
 "nbformat": 4,
 "nbformat_minor": 2
}
